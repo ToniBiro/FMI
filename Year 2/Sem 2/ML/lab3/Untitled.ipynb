{
 "cells": [
  {
   "cell_type": "code",
   "execution_count": 2,
   "metadata": {},
   "outputs": [
    {
     "data": {
      "image/png": "[encoded data removed]",
      "text/plain": [
       "<Figure size 432x288 with 1 Axes>"
      ]
     },
     "metadata": {
      "needs_background": "light"
     },
     "output_type": "display_data"
    }
   ],
   "source": [
    "import numpy as np\n",
    "import matplotlib.pyplot as plt\n",
    "train_images = np.loadtxt('../lab2/data/train_images.txt')\n",
    "train_labels = np.loadtxt('../lab2/data/train_labels.txt', 'float').astype(np.int)\n",
    "test_images = np.loadtxt('../lab2/data/test_images.txt')\n",
    "test_labels = np.loadtxt('../lab2/data/test_labels.txt', 'float').astype(np.int)\n",
    "\n",
    "image = train_images[0, :]\n",
    "image = np.reshape(image, (28, 28))\n",
    "plt.title(train_labels[0])\n",
    "plt.imshow(image.astype(np.uint8), cmap='gray')\n",
    "plt.show()"
   ]
  },
  {
   "cell_type": "code",
   "execution_count": 22,
   "metadata": {},
   "outputs": [
    {
     "data": {
      "text/plain": [
       "0.898"
      ]
     },
     "execution_count": 22,
     "metadata": {},
     "output_type": "execute_result"
    }
   ],
   "source": [
    "def L1(img, imgs):\n",
    "    return np.sum(np.abs(img - imgs), axis=1)\n",
    "\n",
    "def L2(img, imgs):\n",
    "    return np.sqrt(np.sum(np.power(img - imgs, 2), axis=1))\n",
    "\n",
    "class KnnClassifier:\n",
    "    def __init__(self, train_images, train_labels):\n",
    "        self.train_images = train_images\n",
    "        self.train_labels = train_labels\n",
    "\n",
    "    def fit(self, train_images, train_labels):\n",
    "        self.train_images = train_images\n",
    "        self.train_labels = train_labels\n",
    "\n",
    "    def classify_image(self, test_image, num_neighbors=3, metric='l2'):\n",
    "        # 1. Calculati distanta de la test_image la toate train_images -> [201, 2001, 842, 723, ...] (np.linalg.norm - calculeaza norma L1 sau L2 sau altele)\n",
    "        if metric == 'l1':\n",
    "            dists = L1(test_image, self.train_images)\n",
    "        else:\n",
    "            dists = L2(test_image, self.train_images)\n",
    "        # 2. Sortam arrayul de distante crescator pastrand indicii (np.argsort - returneaza indicii in ordinea valorilor sortate)\n",
    "        indexes = np.argsort(dists)\n",
    "        # 3. Luam primii num_neighbours din array-ul sortat -> [3, 3, 2]\n",
    "        k_dists = indexes[:num_neighbors]\n",
    "        # 4. Numaram clasa dominanta -> 3  (np.bincount - numara cate aparitii de fiecare valoare exista) (np.argmax - returneaza indicele cu valoarea cea mai mare)\n",
    "        k_classes = self.train_labels[k_dists]\n",
    "        k_votes = np.bincount(k_classes)\n",
    "        return np.argmax(k_votes)\n",
    "\n",
    "    def predict(self, test_images, num_neighbors=3, metric='l2'):\n",
    "        preds = []\n",
    "        for test_image in test_images:\n",
    "            preds.append(self.classify_image(test_image, num_neighbors, metric))\n",
    "        return preds\n",
    "\n",
    "    def score(self, test_images, test_labels, num_neighbors=3, metric='l2'):\n",
    "        preds = self.predict(test_images, num_neighbors, metric)\n",
    "\n",
    "        return (preds == test_labels).mean()\n",
    "\n",
    "knn = KnnClassifier(train_images, train_labels)\n",
    "# print(knn.classify_image(test_images[9]))\n",
    "knn.score(test_images, test_labels)"
   ]
  },
  {
   "cell_type": "code",
   "execution_count": 23,
   "metadata": {},
   "outputs": [],
   "source": [
    "acc_l1 = [knn.score(test_images, test_labels, num_neighbors=x, metric='l1') for x in [1, 3, 5, 7, 9]]\n",
    "acc_l2 = [knn.score(test_images, test_labels, num_neighbors=x, metric='l2') for x in [1, 3, 5, 7, 9]]"
   ]
  },
  {
   "cell_type": "code",
   "execution_count": 27,
   "metadata": {},
   "outputs": [
    {
     "name": "stdout",
     "output_type": "stream",
     "text": [
      "[0.88, 0.884, 0.868, 0.864, 0.864]\n",
      "[0.884, 0.898, 0.896, 0.88, 0.88]\n"
     ]
    }
   ],
   "source": [
    "print(acc_l1)\n",
    "print(acc_l2)"
   ]
  },
  {
   "cell_type": "code",
   "execution_count": 26,
   "metadata": {},
   "outputs": [
    {
     "data": {
      "image/png": "[encoded data removed]",
      "text/plain": [
       "<Figure size 432x288 with 1 Axes>"
      ]
     },
     "metadata": {
      "needs_background": "light"
     },
     "output_type": "display_data"
    }
   ],
   "source": [
    "ks = [1, 3, 5, 7, 9]\n",
    "plt.plot(ks, acc_l1)\n",
    "plt.plot(ks, acc_l2)\n",
    "plt.show()"
   ]
  }
 ],
 "metadata": {
  "kernelspec": {
   "display_name": "Python 3",
   "language": "python",
   "name": "python3"
  },
  "language_info": {
   "codemirror_mode": {
    "name": "ipython",
    "version": 3
   },
   "file_extension": ".py",
   "mimetype": "text/x-python",
   "name": "python",
   "nbconvert_exporter": "python",
   "pygments_lexer": "ipython3",
   "version": "3.7.7"
  }
 },
 "nbformat": 4,
 "nbformat_minor": 4
}
