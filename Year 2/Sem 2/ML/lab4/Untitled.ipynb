{
 "cells": [
  {
   "cell_type": "code",
   "execution_count": 1,
   "metadata": {},
   "outputs": [],
   "source": [
    "import numpy as np"
   ]
  },
  {
   "cell_type": "code",
   "execution_count": 46,
   "metadata": {},
   "outputs": [
    {
     "name": "stdout",
     "output_type": "stream",
     "text": [
      "[list(['Probably', 'not', 'still', 'going', 'over', 'some', 'stuff', 'here'])\n",
      " list(['I', 'HAVE', 'A', 'DATE', 'ON', 'SUNDAY', 'WITH', 'WILL'])\n",
      " list(['Thanks', '4', 'your', 'continued', 'support', 'Your', 'question', 'this', 'week', 'will', 'enter', 'u', 'in2', 'our', 'draw', '4', 'Â£100', 'cash', 'Name', 'the', 'NEW', 'US', 'President', 'txt', 'ans', 'to', '80082'])\n",
      " list(['Dear', '0776xxxxxxx', 'Uve', 'been', 'invited', 'to', 'XCHAT', 'This', 'is', 'our', 'final', 'attempt', 'to', 'contact', 'u', 'Txt', 'CHAT', 'to', '86688', '150pMsgrcvdHGSuite3422LandsRowW1J6HL', 'LDN', '18yrs'])\n",
      " list(['I', 'sent', 'my', 'scores', 'to', 'sophas', 'and', 'i', 'had', 'to', 'do', 'secondary', 'application', 'for', 'a', 'few', 'schools', 'I', 'think', 'if', 'you', 'are', 'thinking', 'of', 'applying', 'do', 'a', 'research', 'on', 'cost', 'also', 'Contact', 'joke', 'ogunrinde', 'her', 'school', 'is', 'one', 'me', 'the', 'less', 'expensive', 'ones'])\n",
      " list(['Kothi', 'print', 'out', 'marandratha'])\n",
      " list(['Arun', 'can', 'u', 'transfr', 'me', 'd', 'amt'])\n",
      " list(['I', 'asked', 'you', 'to', 'call', 'him', 'now', 'ok'])\n",
      " list(['Ringtone', 'Club', 'Gr8', 'new', 'polys', 'direct', 'to', 'your', 'mobile', 'every', 'week'])\n",
      " list(['Hello', 'Just', 'got', 'here', 'st', 'andrewsboy', 'its', 'a', 'long', 'way', 'Its', 'cold', 'I', 'will', 'keep', 'you', 'posted'])]\n"
     ]
    }
   ],
   "source": [
    "train_data = np.load('data/training_sentences.npy', allow_pickle=True)\n",
    "train_labels = np.load('data/training_labels.npy')\n",
    "test_data = np.load('data/test_sentences.npy', allow_pickle=True)\n",
    "test_labels = np.load('data/test_labels.npy')\n",
    "\n",
    "print(train_data[:10])"
   ]
  },
  {
   "cell_type": "code",
   "execution_count": 51,
   "metadata": {},
   "outputs": [
    {
     "name": "stdout",
     "output_type": "stream",
     "text": [
      "[list(['Probably', 'not', 'still', 'going', 'over', 'some', 'stuff', 'here'])\n",
      " list(['I', 'HAVE', 'A', 'DATE', 'ON', 'SUNDAY', 'WITH', 'WILL'])\n",
      " list(['Thanks', '4', 'your', 'continued', 'support', 'Your', 'question', 'this', 'week', 'will', 'enter', 'u', 'in2', 'our', 'draw', '4', 'Â£100', 'cash', 'Name', 'the', 'NEW', 'US', 'President', 'txt', 'ans', 'to', '80082'])\n",
      " ...\n",
      " list(['OH', 'FUCK', 'JUSWOKE', 'UP', 'IN', 'A', 'BED', 'ON', 'A', 'BOATIN', 'THE', 'DOCKS', 'SLEPT', 'WID', '25', 'YEAR', 'OLD', 'SPINOUT', 'GIV', 'U', 'DA', 'GOSSIP', 'L8R', 'XXX'])\n",
      " list(['NOT', 'MUCH', 'NO', 'FIGHTS', 'IT', 'WAS', 'A', 'GOOD', 'NITE'])\n",
      " list(['Did', 'he', 'just', 'say', 'somebody', 'is', 'named', 'tampa'])]\n"
     ]
    }
   ],
   "source": [
    "print(train_data)"
   ]
  },
  {
   "cell_type": "code",
   "execution_count": 47,
   "metadata": {},
   "outputs": [],
   "source": [
    "class BagOfWords:\n",
    "    \n",
    "    def __init__(self):\n",
    "        self.vocab = {}\n",
    "        self.words = []\n",
    "\n",
    "    def build_vocabulary(self, data):\n",
    "        idx = 0\n",
    "        for sentence in data:\n",
    "            for word in sentence:\n",
    "                # word = word.lower()\n",
    "                if word not in self.vocab:\n",
    "                    self.vocab[word] = idx\n",
    "                    idx += 1\n",
    "                    # self.vocab[word] = len(self.words)\n",
    "                    self.words.append(word)\n",
    "        return len(self.words)\n",
    "\n",
    "    def get_features(self, data):\n",
    "        result = np.zeros((data.shape[0], len(self.words))) # N x VOCAB_SIZE\n",
    "        for sentence_idx, sentence in enumerate(data):\n",
    "            for word in sentence:\n",
    "                # word = word.lower()\n",
    "                if word in self.vocab:\n",
    "                    result[sentence_idx, self.vocab[word]] += 1 # MAT[INDICE PROPIZITIE, INDICE CUVANT] += 1\n",
    "        return result"
   ]
  },
  {
   "cell_type": "code",
   "execution_count": 48,
   "metadata": {},
   "outputs": [],
   "source": [
    "from sklearn.preprocessing import StandardScaler, MinMaxScaler, Normalizer\n",
    "\n",
    "def normalize_data(train_data, test_data, type=None):\n",
    "    scaler = None\n",
    "    if type == 'standard':\n",
    "        scaler = StandardScaler()\n",
    "\n",
    "    elif type == 'min_max':\n",
    "        scaler = MinMaxScaler()\n",
    "\n",
    "    elif type == 'l1' or type == 'l2':\n",
    "        scaler = Normalizer(norm=type)\n",
    "\n",
    "    if scaler is not None:\n",
    "        scaler.fit(train_data)\n",
    "        scaled_train_data = scaler.transform(train_data)\n",
    "        scaled_test_data = scaler.transform(test_data)\n",
    "        return scaled_train_data, scaled_test_data\n",
    "    else:\n",
    "        return train_data, test_data"
   ]
  },
  {
   "cell_type": "code",
   "execution_count": 49,
   "metadata": {},
   "outputs": [],
   "source": [
    "bow_model = BagOfWords()\n",
    "bow_model.build_vocabulary(train_data) \n",
    "\n",
    "training_features, testing_features = bow.get_features(train_data), bow.get_features(test_data)\n",
    "\n",
    "# norm_train, norm_test = normalize_data(training_features, testing_features, type='l2')"
   ]
  },
  {
   "cell_type": "code",
   "execution_count": 50,
   "metadata": {},
   "outputs": [
    {
     "name": "stdout",
     "output_type": "stream",
     "text": [
      "None\n"
     ]
    }
   ],
   "source": [
    "print(training_features)"
   ]
  },
  {
   "cell_type": "code",
   "execution_count": null,
   "metadata": {},
   "outputs": [],
   "source": []
  }
 ],
 "metadata": {
  "kernelspec": {
   "display_name": "Python 3",
   "language": "python",
   "name": "python3"
  },
  "language_info": {
   "codemirror_mode": {
    "name": "ipython",
    "version": 3
   },
   "file_extension": ".py",
   "mimetype": "text/x-python",
   "name": "python",
   "nbconvert_exporter": "python",
   "pygments_lexer": "ipython3",
   "version": "3.7.7"
  }
 },
 "nbformat": 4,
 "nbformat_minor": 4
}
